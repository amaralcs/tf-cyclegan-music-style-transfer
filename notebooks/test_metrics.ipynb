{
 "cells": [
  {
   "cell_type": "code",
   "execution_count": 1,
   "metadata": {},
   "outputs": [],
   "source": [
    "import os\n",
    "import sys\n",
    "\n",
    "top_dir = os.path.split(os.getcwd())[0]\n",
    "sys.path.append(top_dir)\n",
    "sys.path.append(os.path.join(top_dir, \"src\"))"
   ]
  },
  {
   "cell_type": "code",
   "execution_count": 2,
   "metadata": {},
   "outputs": [],
   "source": [
    "import numpy as np\n",
    "import pretty_midi\n",
    "from glob import glob\n",
    "import scipy.signal\n",
    "import scipy.spatial.distance\n",
    "import matplotlib.pyplot as plt"
   ]
  },
  {
   "cell_type": "markdown",
   "metadata": {},
   "source": [
    "# Content Preservation"
   ]
  },
  {
   "cell_type": "code",
   "execution_count": 3,
   "metadata": {},
   "outputs": [],
   "source": [
    "def _as_note_list(sequence):\n",
    "    if isinstance(sequence, pretty_midi.PrettyMIDI):\n",
    "        sequence = [note for instrument in sequence.instruments for note in instrument.notes]\n",
    "\n",
    "    return sequence\n",
    "\n",
    "\n",
    "def _strip_velocity(notes):\n",
    "    return [pretty_midi.Note(pitch=n.pitch, start=n.start, end=n.end, velocity=127)\n",
    "            for n in notes]\n",
    "\n",
    "\n",
    "def _get_chroma(notes, sampling_rate):\n",
    "    midi = pretty_midi.Instrument(0) # Grand Piano\n",
    "    midi.notes[:] = notes\n",
    "    return midi.get_chroma(fs=sampling_rate)\n",
    "\n",
    "\n",
    "def _average_cos_similarity(chroma_a, chroma_b):\n",
    "    \"\"\"Compute the column-wise cosine similarity, averaged over all non-zero columns.\"\"\"\n",
    "    nonzero_cols_ab = []\n",
    "    for chroma in (chroma_a, chroma_b):\n",
    "        col_norms = np.linalg.norm(chroma, axis=0)\n",
    "        nonzero_cols = col_norms > 1e-9\n",
    "        nonzero_cols_ab.append(nonzero_cols)\n",
    "        # Note: 'np.divide' needs the 'out' parameter, otherwise the output would get written to\n",
    "        # an uninitialized array.\n",
    "        np.divide(chroma, col_norms, where=nonzero_cols, out=chroma)\n",
    "\n",
    "    # Count the columns where at least one of the two matrices is nonzero.\n",
    "    num_nonzero_cols = np.logical_or(*nonzero_cols_ab).sum()  # pylint: disable=no-value-for-parameter\n",
    "\n",
    "    # Compute the dot product.\n",
    "    return np.tensordot(chroma_a, chroma_b) / num_nonzero_cols\n",
    "\n",
    "\n",
    "def _convolve_strided(data, filtr, stride):\n",
    "    \"\"\"Compute a 2D convolution with the given stride along the second dimension.\n",
    "    A full (zero-padded) 2D convolution is computed, then subsampled according to the stride with\n",
    "    an offset calculated so that the convolution window is aligned to the left edge of the original\n",
    "    array.\n",
    "    \"\"\"\n",
    "    convolution = scipy.signal.convolve2d(data, filtr, mode='full')\n",
    "    offset = (filtr.shape[-1] - 1) % stride  # Make sure the windows are aligned\n",
    "    return convolution[:, offset::stride]"
   ]
  },
  {
   "cell_type": "code",
   "execution_count": 4,
   "metadata": {},
   "outputs": [],
   "source": [
    "def chroma_similarity(sequence_a, sequence_b, sampling_rate, window_size, stride,\n",
    "                      use_velocity=False):\n",
    "    notes_a, notes_b = (_as_note_list(seq) for seq in (sequence_a, sequence_b))\n",
    "\n",
    "    if not use_velocity:\n",
    "        notes_a, notes_b = (_strip_velocity(notes) for notes in (notes_a, notes_b))\n",
    "\n",
    "    chroma_a, chroma_b = (_get_chroma(notes, sampling_rate) for notes in (notes_a, notes_b))\n",
    "\n",
    "    # Make sure the chroma matrices have the same dimensions.\n",
    "    if chroma_a.shape[1] < chroma_b.shape[1]:\n",
    "        chroma_a, chroma_b = chroma_b, chroma_a\n",
    "    chroma_b = np.pad(chroma_b, [(0, 0), (0, chroma_a.shape[1] - chroma_b.shape[1])],\n",
    "                      mode='constant')\n",
    "\n",
    "    # Compute a moving average over time.\n",
    "    avg_filter = np.ones((1, window_size)) / window_size\n",
    "    chroma_avg_a, chroma_avg_b = (_convolve_strided(chroma, avg_filter, stride)\n",
    "                                  for chroma in (chroma_a, chroma_b))\n",
    "\n",
    "    return _average_cos_similarity(chroma_avg_a, chroma_avg_b), (chroma_a, chroma_avg_a, chroma_b, chroma_avg_b)"
   ]
  },
  {
   "cell_type": "code",
   "execution_count": 5,
   "metadata": {},
   "outputs": [
    {
     "data": {
      "text/plain": [
       "True"
      ]
     },
     "execution_count": 5,
     "metadata": {},
     "output_type": "execute_result"
    }
   ],
   "source": [
    "# Change this path to the path of the converted songs\n",
    "fpaths = glob(\"../converted/CP_C2CP_P_30e_bs32_nr84_ts64_sd1_run_2022_06_25-19_24_32/A2B/*.mid*\")\n",
    "\n",
    "cycled_fpaths = fpaths[::3]\n",
    "original_fpaths = fpaths[1::3]\n",
    "transfer_fpaths = fpaths[2::3]\n",
    "\n",
    "cycled_names = [os.path.split(fpath)[-1] for fpath in cycled_fpaths]\n",
    "original_names = [os.path.split(fpath)[-1] for fpath in original_fpaths]\n",
    "transfer_names = [os.path.split(fpath)[-1] for fpath in transfer_fpaths]\n",
    "\n",
    "cycled_songs = [pretty_midi.PrettyMIDI(filepath) for filepath in cycled_fpaths]\n",
    "original_songs = [pretty_midi.PrettyMIDI(filepath) for filepath in original_fpaths]\n",
    "transfer_songs = [pretty_midi.PrettyMIDI(filepath) for filepath in transfer_fpaths]\n",
    "\n",
    "len(cycled_songs) == len(cycled_fpaths)"
   ]
  },
  {
   "cell_type": "code",
   "execution_count": 6,
   "metadata": {},
   "outputs": [
    {
     "data": {
      "text/plain": [
       "0.7004662095250198"
      ]
     },
     "execution_count": 6,
     "metadata": {},
     "output_type": "execute_result"
    }
   ],
   "source": [
    "similarity, _ = chroma_similarity(original_songs[0], transfer_songs[0], sampling_rate=16, window_size=12, stride=1)\n",
    "similarity"
   ]
  },
  {
   "cell_type": "markdown",
   "metadata": {},
   "source": [
    "Crude plot of all the preservation metrics"
   ]
  },
  {
   "cell_type": "code",
   "execution_count": 7,
   "metadata": {},
   "outputs": [
    {
     "data": {
      "image/png": "[encoded data removed]",
      "text/plain": [
       "<Figure size 432x288 with 1 Axes>"
      ]
     },
     "metadata": {
      "needs_background": "light"
     },
     "output_type": "display_data"
    },
    {
     "data": {
      "image/png": "[encoded data removed]",
      "text/plain": [
       "<Figure size 432x288 with 1 Axes>"
      ]
     },
     "metadata": {
      "needs_background": "light"
     },
     "output_type": "display_data"
    }
   ],
   "source": [
    "sampling_rate = 12\n",
    "window_size = 24\n",
    "stride = 12\n",
    "use_velocity = False\n",
    "\n",
    "similarity_ot = []\n",
    "similarity_oc = []\n",
    "for orig, transfer, cycle in zip(original_songs, transfer_songs, cycled_songs):\n",
    "    sim_ot, _ = chroma_similarity(orig, transfer, sampling_rate=sampling_rate, window_size=window_size, stride=stride)\n",
    "    sim_oc, _ = chroma_similarity(orig, cycle, sampling_rate=sampling_rate, window_size=window_size, stride=stride)\n",
    "    similarity_ot.append(sim_ot)\n",
    "    similarity_oc.append(sim_oc)\n",
    "\n",
    "plt.boxplot(similarity_ot)\n",
    "plt.show()\n",
    "plt.boxplot(similarity_oc)\n",
    "plt.show()\n",
    "    "
   ]
  },
  {
   "cell_type": "markdown",
   "metadata": {},
   "source": [
    "-----"
   ]
  },
  {
   "cell_type": "code",
   "execution_count": 8,
   "metadata": {},
   "outputs": [
    {
     "name": "stdout",
     "output_type": "stream",
     "text": [
      "Comparing 1009_original.mid and 1009_transfer.mid and 1009_cycle.mid\n"
     ]
    }
   ],
   "source": [
    "idx = 10\n",
    "song_a = original_songs[idx]\n",
    "song_b = transfer_songs[idx]\n",
    "song_c = cycled_songs[idx]\n",
    "\n",
    "print(f\"Comparing {original_names[idx]} and {transfer_names[idx]} and {cycled_names[idx]}\")\n",
    "\n",
    "\n",
    "\n",
    "sim_ab, (chroma_a, chroma_avg_a, chroma_b, chroma_avg_b) = chroma_similarity(song_a, song_b, sampling_rate=sampling_rate, window_size=window_size, stride=stride)\n",
    "sim_ac, (_, _, chroma_c, chroma_avg_c) = chroma_similarity(song_a, song_c, sampling_rate=sampling_rate, window_size=window_size, stride=stride)"
   ]
  },
  {
   "cell_type": "markdown",
   "metadata": {},
   "source": [
    "Here's how the convolution is computed and strided."
   ]
  },
  {
   "cell_type": "code",
   "execution_count": 103,
   "metadata": {},
   "outputs": [
    {
     "name": "stdout",
     "output_type": "stream",
     "text": [
      "(12, 144) (1, 24) (12, 167) (12, 12)\n"
     ]
    },
    {
     "data": {
      "image/png": "[encoded data removed]",
      "text/plain": [
       "<Figure size 864x576 with 3 Axes>"
      ]
     },
     "metadata": {
      "needs_background": "light"
     },
     "output_type": "display_data"
    }
   ],
   "source": [
    "avg_filter = np.ones((1, window_size)) / window_size\n",
    "\n",
    "convolved = scipy.signal.convolve2d(chroma_a, avg_filter)\n",
    "offset = avg_filter.shape[-1] -1 % stride\n",
    "\n",
    "strided = convolved[:, offset::stride]\n",
    "print(chroma_a.shape, avg_filter.shape, convolved.shape, strided.shape)\n",
    "\n",
    "fig, (ax1, ax2, ax3) = plt.subplots(3, 1, figsize=(12, 8))\n",
    "\n",
    "ax1.pcolormesh(chroma_a)\n",
    "ax2.pcolormesh(convolved)\n",
    "ax3.pcolormesh(strided)\n",
    "\n",
    "plt.show()"
   ]
  },
  {
   "cell_type": "code",
   "execution_count": 9,
   "metadata": {},
   "outputs": [
    {
     "data": {
      "image/png": "[encoded data removed]",
      "text/plain": [
       "<Figure size 864x576 with 9 Axes>"
      ]
     },
     "metadata": {
      "needs_background": "light"
     },
     "output_type": "display_data"
    },
    {
     "name": "stdout",
     "output_type": "stream",
     "text": [
      "Similarity Original - Transfer = 85.080%\n",
      "Similarity Original - Cycled = 85.080%\n"
     ]
    }
   ],
   "source": [
    "max_notes = 256\n",
    "\n",
    "fig, (ax1, ax2, ax3) = plt.subplots(3, 3, figsize=(12, 8))\n",
    "\n",
    "ax1[0].imshow(song_a.get_piano_roll()[:, :max_notes], aspect=\"auto\")\n",
    "ax1[1].imshow(chroma_a[:, :max_notes], aspect=\"auto\")\n",
    "ax1[2].imshow(chroma_avg_a[:, :max_notes], aspect=\"auto\")\n",
    "\n",
    "ax2[0].imshow(song_b.get_piano_roll()[:, :max_notes], aspect=\"auto\")\n",
    "ax2[1].imshow(chroma_b[:, :max_notes], aspect=\"auto\")\n",
    "ax2[2].imshow(chroma_avg_b[:, :max_notes], aspect=\"auto\")\n",
    "\n",
    "ax3[0].imshow(song_c.get_piano_roll()[:, :max_notes], aspect=\"auto\")\n",
    "ax3[1].imshow(chroma_c[:, :max_notes], aspect=\"auto\")\n",
    "ax3[2].imshow(chroma_avg_c[:, :max_notes], aspect=\"auto\")\n",
    "\n",
    "fig.tight_layout()\n",
    "plt.show()\n",
    "\n",
    "print(f\"Similarity Original - Transfer = {sim_ab:.3%}\")\n",
    "print(f\"Similarity Original - Cycled = {sim_ac:.3%}\")"
   ]
  },
  {
   "cell_type": "markdown",
   "metadata": {},
   "source": [
    "--- \n"
   ]
  },
  {
   "cell_type": "markdown",
   "metadata": {},
   "source": [
    "# Style Preservation"
   ]
  },
  {
   "cell_type": "markdown",
   "metadata": {},
   "source": [
    "Code from the original paper  `Supervised Symbolic Music Style transfer ... ` from Cifka et al."
   ]
  },
  {
   "cell_type": "code",
   "execution_count": 10,
   "metadata": {},
   "outputs": [],
   "source": [
    "# This is the function used to load the data\n",
    "# Ref to `normalize_tempo`: https://github.com/cifkao/museflow/blob/master/museflow/scripts/chop_midi.py#L120\n",
    "def get_data():\n",
    "    for path in args.midi_paths:\n",
    "        midi = pretty_midi.PrettyMIDI(path)\n",
    "        normalize_tempo(midi, 60)\n",
    "        yield [note for instr in midi.instruments for note in instr.notes]\n",
    "\n",
    "def time_pitch_diff_hist(data, max_time=2, bin_size=1/6, pitch_range=20, normed=False):\n",
    "    \"\"\"Compute an onset-time-difference vs. interval histogram.\n",
    "    Args:\n",
    "        data: A list of lists of `pretty_midi.Note`.\n",
    "        max_time: The maximum time between two notes to be considered.\n",
    "        bin_size: The bin size along the time axis.\n",
    "        pitch_range: The number of pitch difference bins in each direction (positive or negative,\n",
    "            excluding 0). Each bin has size 1.\n",
    "        normed: Whether to normalize the histogram.\n",
    "    Returns:\n",
    "        A 2D `np.array` of shape `[max_time / bin_size, 2 * pitch_range + 1]`.\n",
    "    \"\"\"\n",
    "    epsilon = 1e-9\n",
    "    time_diffs = []\n",
    "    intervals = []\n",
    "    for notes in data:\n",
    "        onsets = [n.start for n in notes]\n",
    "        diff_mat = np.subtract.outer(onsets, onsets)\n",
    "\n",
    "        # Count only positive time differences.\n",
    "        index_pairs = zip(*np.where((diff_mat < max_time - epsilon) & (diff_mat >= 0.)))\n",
    "        for j, i in index_pairs:\n",
    "            if j == i:\n",
    "                continue\n",
    "\n",
    "            time_diffs.append(diff_mat[j, i])\n",
    "            intervals.append(notes[j].pitch - notes[i].pitch)\n",
    "\n",
    "    histogram, _, _ = np.histogram2d(intervals, time_diffs, normed=normed,\n",
    "                                     bins=[np.arange(-(pitch_range + 1), pitch_range + 1) + 0.5,\n",
    "                                           np.arange(0., max_time + bin_size - epsilon, bin_size)])\n",
    "    np.nan_to_num(histogram, copy=False)                           \n",
    "    return histogram"
   ]
  },
  {
   "cell_type": "markdown",
   "metadata": {},
   "source": [
    "#### Breaking this code down"
   ]
  },
  {
   "cell_type": "code",
   "execution_count": 11,
   "metadata": {},
   "outputs": [
    {
     "data": {
      "text/plain": [
       "(1, 110)"
      ]
     },
     "execution_count": 11,
     "metadata": {},
     "output_type": "execute_result"
    }
   ],
   "source": [
    "eps = 1e-9 \n",
    "max_time = 4\n",
    "bin_size = 1/6\n",
    "pitch_range = 20\n",
    "normed = False\n",
    "time_diffs = []\n",
    "intervals = []\n",
    "\n",
    "midi = original_songs[5]\n",
    "data = [note for instr in midi.instruments for note in instr.notes]\n",
    "len(midi.instruments), len(data)"
   ]
  },
  {
   "cell_type": "code",
   "execution_count": 12,
   "metadata": {},
   "outputs": [
    {
     "data": {
      "text/plain": [
       "[0.0, 0.1875, 0.1875, 0.375, 0.375, 0.5625, 0.5625, 0.75, 0.0, 0.9375]"
      ]
     },
     "execution_count": 12,
     "metadata": {},
     "output_type": "execute_result"
    }
   ],
   "source": [
    "for notes in [data[:10]]:\n",
    "    onsets = [n.start for n in notes]\n",
    "onsets"
   ]
  },
  {
   "cell_type": "code",
   "execution_count": 13,
   "metadata": {},
   "outputs": [
    {
     "data": {
      "text/plain": [
       "array([[ 0.    , -0.1875, -0.1875, -0.375 , -0.375 , -0.5625, -0.5625,\n",
       "        -0.75  ,  0.    , -0.9375],\n",
       "       [ 0.1875,  0.    ,  0.    , -0.1875, -0.1875, -0.375 , -0.375 ,\n",
       "        -0.5625,  0.1875, -0.75  ],\n",
       "       [ 0.1875,  0.    ,  0.    , -0.1875, -0.1875, -0.375 , -0.375 ,\n",
       "        -0.5625,  0.1875, -0.75  ]])"
      ]
     },
     "execution_count": 13,
     "metadata": {},
     "output_type": "execute_result"
    }
   ],
   "source": [
    "diff_mat = np.subtract.outer(onsets, onsets)\n",
    "diff_mat[:3]"
   ]
  },
  {
   "cell_type": "code",
   "execution_count": 14,
   "metadata": {},
   "outputs": [
    {
     "name": "stdout",
     "output_type": "stream",
     "text": [
      "[(0, 0), (0, 8), (1, 0), (1, 1), (1, 2), (1, 8), (2, 0), (2, 1), (2, 2), (2, 8), (3, 0), (3, 1), (3, 2), (3, 3), (3, 4), (3, 8), (4, 0), (4, 1), (4, 2), (4, 3), (4, 4), (4, 8), (5, 0), (5, 1), (5, 2), (5, 3), (5, 4), (5, 5), (5, 6), (5, 8), (6, 0), (6, 1), (6, 2), (6, 3), (6, 4), (6, 5), (6, 6), (6, 8), (7, 0), (7, 1), (7, 2), (7, 3), (7, 4), (7, 5), (7, 6), (7, 7), (7, 8), (8, 0), (8, 8), (9, 0), (9, 1), (9, 2), (9, 3), (9, 4), (9, 5), (9, 6), (9, 7), (9, 8), (9, 9)]\n"
     ]
    }
   ],
   "source": [
    "index_pairs = zip(*np.where((diff_mat < max_time - eps) & (diff_mat >= 0.)))\n",
    "print(list(index_pairs))\n",
    "index_pairs = zip(*np.where((diff_mat < max_time - eps) & (diff_mat >= 0.)))\n"
   ]
  },
  {
   "cell_type": "code",
   "execution_count": 15,
   "metadata": {},
   "outputs": [],
   "source": [
    "for j, i in index_pairs:\n",
    "    if j == i:\n",
    "        continue\n",
    "\n",
    "    time_diffs.append(diff_mat[j, i]) # Where the differences are > 0 \n",
    "    intervals.append(notes[j].pitch - notes[i].pitch) # The pitch differences"
   ]
  },
  {
   "cell_type": "code",
   "execution_count": 16,
   "metadata": {},
   "outputs": [
    {
     "data": {
      "text/plain": [
       "[(0.0, -12), (0.1875, 16), (0.0, -8), (0.1875, 4), (0.1875, 24)]"
      ]
     },
     "execution_count": 16,
     "metadata": {},
     "output_type": "execute_result"
    }
   ],
   "source": [
    "list(zip(time_diffs, intervals))[:5]"
   ]
  },
  {
   "cell_type": "markdown",
   "metadata": {},
   "source": [
    "The list above shows the onset where there is a pitch difference and the value of the pitch difference. We can reference this to the list `index_pairs` (excluding entries where the indices are the same) and look at the notes in the data to ensure the values are calculated correctly.\n",
    "\n",
    "For example. The first value is `(0.0, -12)` and the corresponding index is `(0, 8)`. This means that the first and ninth note start at index 0 and have a difference of 12 semitones. We can verify this below"
   ]
  },
  {
   "cell_type": "code",
   "execution_count": 17,
   "metadata": {},
   "outputs": [
    {
     "data": {
      "text/plain": [
       "(Note(start=0.000000, end=0.375000, pitch=43, velocity=100),\n",
       " Note(start=0.000000, end=1.125000, pitch=55, velocity=100))"
      ]
     },
     "execution_count": 17,
     "metadata": {},
     "output_type": "execute_result"
    }
   ],
   "source": [
    "data[0], data[8]"
   ]
  },
  {
   "cell_type": "code",
   "execution_count": 18,
   "metadata": {},
   "outputs": [
    {
     "data": {
      "text/plain": [
       "array([-20.5, -19.5, -18.5, -17.5, -16.5, -15.5, -14.5, -13.5, -12.5,\n",
       "       -11.5, -10.5,  -9.5,  -8.5,  -7.5,  -6.5,  -5.5,  -4.5,  -3.5,\n",
       "        -2.5,  -1.5,  -0.5,   0.5,   1.5,   2.5,   3.5,   4.5,   5.5,\n",
       "         6.5,   7.5,   8.5,   9.5,  10.5,  11.5,  12.5,  13.5,  14.5,\n",
       "        15.5,  16.5,  17.5,  18.5,  19.5,  20.5])"
      ]
     },
     "execution_count": 18,
     "metadata": {},
     "output_type": "execute_result"
    }
   ],
   "source": [
    "bins_pitch = np.arange(-(pitch_range + 1), pitch_range + 1) + 0.5\n",
    "bins_pitch"
   ]
  },
  {
   "cell_type": "code",
   "execution_count": 19,
   "metadata": {},
   "outputs": [
    {
     "data": {
      "text/plain": [
       "array([0.        , 0.16666667, 0.33333333, 0.5       , 0.66666667,\n",
       "       0.83333333, 1.        , 1.16666667, 1.33333333, 1.5       ,\n",
       "       1.66666667, 1.83333333, 2.        , 2.16666667, 2.33333333,\n",
       "       2.5       , 2.66666667, 2.83333333, 3.        , 3.16666667,\n",
       "       3.33333333, 3.5       , 3.66666667, 3.83333333, 4.        ])"
      ]
     },
     "execution_count": 19,
     "metadata": {},
     "output_type": "execute_result"
    }
   ],
   "source": [
    "bins_interval = np.arange(0., max_time + bin_size - eps, bin_size)\n",
    "bins_interval\n"
   ]
  },
  {
   "cell_type": "code",
   "execution_count": 20,
   "metadata": {},
   "outputs": [
    {
     "data": {
      "text/plain": [
       "(41, 24)"
      ]
     },
     "execution_count": 20,
     "metadata": {},
     "output_type": "execute_result"
    },
    {
     "data": {
      "image/png": "[encoded data removed]",
      "text/plain": [
       "<Figure size 432x288 with 1 Axes>"
      ]
     },
     "metadata": {
      "needs_background": "light"
     },
     "output_type": "display_data"
    }
   ],
   "source": [
    "histogram, xedges, yedges = np.histogram2d(intervals, time_diffs, normed=normed, bins=[bins_pitch,bins_interval])\n",
    "plt.pcolormesh(histogram)\n",
    "histogram.shape"
   ]
  },
  {
   "cell_type": "code",
   "execution_count": 21,
   "metadata": {},
   "outputs": [
    {
     "data": {
      "text/plain": [
       "(984,)"
      ]
     },
     "execution_count": 21,
     "metadata": {},
     "output_type": "execute_result"
    }
   ],
   "source": [
    "histogram.flatten().shape"
   ]
  },
  {
   "cell_type": "markdown",
   "metadata": {},
   "source": [
    "### Aggregating into a single style\n",
    "\n",
    "The code does not give any indication as to how the reference styles in [this page](https://github.com/cifkao/ismir2019-music-style-translation/blob/75745ca38e9a7e74eca2a6208eb85f36f1776c80/data/parallel/style_profiles/Bass/DANCE_2.json) are computed. My best guess is that it is an average "
   ]
  },
  {
   "cell_type": "markdown",
   "metadata": {},
   "source": [
    "For the original songs"
   ]
  },
  {
   "cell_type": "code",
   "execution_count": 22,
   "metadata": {},
   "outputs": [
    {
     "data": {
      "image/png": "[encoded data removed]",
      "text/plain": [
       "<Figure size 432x288 with 1 Axes>"
      ]
     },
     "metadata": {
      "needs_background": "light"
     },
     "output_type": "display_data"
    }
   ],
   "source": [
    "original_hists = []\n",
    "for song  in original_songs:\n",
    "    notes = [note for instr in midi.instruments for note in instr.notes]\n",
    "    original_hists.append(time_pitch_diff_hist([notes], max_time=4, bin_size = 1/6, normed=True))\n",
    "original_hists = np.array(original_hists)\n",
    "\n",
    "orig_mean_hist = original_hists.mean(axis=0)\n",
    "plt.pcolormesh(orig_mean_hist)\n",
    "\n",
    "plt.show()"
   ]
  },
  {
   "cell_type": "markdown",
   "metadata": {},
   "source": [
    "For the transferred songs"
   ]
  },
  {
   "cell_type": "code",
   "execution_count": 23,
   "metadata": {},
   "outputs": [
    {
     "data": {
      "image/png": "[encoded data removed]",
      "text/plain": [
       "<Figure size 432x288 with 1 Axes>"
      ]
     },
     "metadata": {
      "needs_background": "light"
     },
     "output_type": "display_data"
    }
   ],
   "source": [
    "transfer_hists = []\n",
    "for song  in transfer_songs:\n",
    "    notes = [note for instr in midi.instruments for note in instr.notes]\n",
    "    transfer_hists.append(time_pitch_diff_hist([notes], max_time=4, bin_size = 1/6, normed=True))\n",
    "transfer_hists = np.array(transfer_hists)\n",
    "\n",
    "transfer_mean_hist = transfer_hists.mean(axis=0)\n",
    "plt.pcolormesh(transfer_mean_hist)\n",
    "\n",
    "plt.show()"
   ]
  },
  {
   "cell_type": "markdown",
   "metadata": {},
   "source": [
    "THis is comparing the transferred (C -> P) songs to the original profile (C). In fact, I should be comparing it to the profile of the target style (P)"
   ]
  },
  {
   "cell_type": "code",
   "execution_count": 37,
   "metadata": {},
   "outputs": [],
   "source": [
    "from sklearn.metrics.pairwise import cosine_similarity\n",
    "\n",
    "flat_mean_original = orig_mean_hist.ravel()\n",
    "\n",
    "similarities = []\n",
    "for tH in transfer_hists:\n",
    "    flat_tH = tH.ravel()\n",
    "    [[similarity]] == cosine_similarity([flat_tH], [flat_mean_original])\n",
    "    similarities.append(similarity)\n",
    "similarities = np.array(similarities)"
   ]
  },
  {
   "cell_type": "code",
   "execution_count": 47,
   "metadata": {},
   "outputs": [
    {
     "data": {
      "image/png": "[encoded data removed]",
      "text/plain": [
       "<Figure size 432x288 with 1 Axes>"
      ]
     },
     "metadata": {
      "needs_background": "light"
     },
     "output_type": "display_data"
    }
   ],
   "source": [
    "plt.boxplot(similarities)\n",
    "plt.show()"
   ]
  }
 ],
 "metadata": {
  "kernelspec": {
   "display_name": "Python 3.9.7 ('cyclegan')",
   "language": "python",
   "name": "python3"
  },
  "language_info": {
   "codemirror_mode": {
    "name": "ipython",
    "version": 3
   },
   "file_extension": ".py",
   "mimetype": "text/x-python",
   "name": "python",
   "nbconvert_exporter": "python",
   "pygments_lexer": "ipython3",
   "version": "3.9.7"
  },
  "orig_nbformat": 4,
  "vscode": {
   "interpreter": {
    "hash": "68a8aea8ee4b1b68659359983b16dbf789aa8dd06df1c5141e72074281ec7a76"
   }
  }
 },
 "nbformat": 4,
 "nbformat_minor": 2
}
